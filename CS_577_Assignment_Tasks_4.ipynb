{
  "nbformat": 4,
  "nbformat_minor": 0,
  "metadata": {
    "colab": {
      "provenance": []
    },
    "kernelspec": {
      "name": "python3",
      "display_name": "Python 3"
    },
    "language_info": {
      "name": "python"
    },
    "accelerator": "GPU"
  },
  "cells": [
    {
      "cell_type": "code",
      "execution_count": 3,
      "metadata": {
        "id": "c0fqIqZGgqJu"
      },
      "outputs": [],
      "source": [
        "\n",
        "# setup\n",
        "import numpy as np\n",
        "import pandas as pd\n",
        "from tensorflow import keras\n",
        "from tensorflow.keras import layers\n",
        "from keras.datasets import cifar10\n",
        "from keras import models\n",
        "from tensorflow.keras.optimizers import Adam, SGD, RMSprop\n",
        "from keras.layers.core import Activation\n",
        "import matplotlib.pyplot as plt\n",
        "from sklearn.impute import SimpleImputer"
      ]
    },
    {
      "cell_type": "code",
      "source": [
        "# load \n",
        "def load_crime_data(df):                                                    # Create a function load_crime_data() \n",
        "    dt = pd.read_csv(df,delim_whitespace = False,header=None)               # Read the csv file using “pandas.read_csv”.and then replace “?” with “np.NAN” \n",
        "    dt = dt.replace(\"?\",np.NAN)\n",
        "    dt = dt.values                                                          # Then we extract the values from the dataframe using dataframe.values• \n",
        "    train_data = dt[:1500,5:127].astype(\"float\")\n",
        "    test_data = dt[1500:,5:127].astype(\"float\")\n",
        "    train_labels = dt[:1500,127:128].astype(\"float\")\n",
        "    test_labels = dt[1500:,127:128].astype(\"float\")\n",
        "    return (train_data,train_labels),(test_data,test_labels)\n",
        "    "
      ],
      "metadata": {
        "id": "G4DrJikTRuZt"
      },
      "execution_count": 4,
      "outputs": []
    },
    {
      "cell_type": "code",
      "source": [
        "(train_data,train_labels),(test_data,test_labels) = load_crime_data(\"https://archive.ics.uci.edu/ml/machine-learning-databases/communities/communities.data\")"
      ],
      "metadata": {
        "id": "V3v51v_3SExW"
      },
      "execution_count": 5,
      "outputs": []
    },
    {
      "cell_type": "code",
      "source": [
        "imp = SimpleImputer(missing_values=np.NAN, strategy='mean')\n",
        "train_data = imp.fit_transform(train_data)\n",
        "test_data = imp.fit_transform(test_data)\n",
        "train_labels = imp.fit_transform(train_labels)\n",
        "test_labels = imp.fit_transform(test_labels)\n",
        "print(train_data.shape)\n",
        "print(test_data.shape)\n",
        "print(train_labels.shape)\n",
        "print(test_labels.shape)"
      ],
      "metadata": {
        "colab": {
          "base_uri": "https://localhost:8080/"
        },
        "id": "0H-kkDfcSyIl",
        "outputId": "e65e0ceb-e184-42fc-d8ad-2f517903c8af"
      },
      "execution_count": 6,
      "outputs": [
        {
          "output_type": "stream",
          "name": "stdout",
          "text": [
            "(1500, 122)\n",
            "(494, 122)\n",
            "(1500, 1)\n",
            "(494, 1)\n"
          ]
        }
      ]
    },
    {
      "cell_type": "code",
      "source": [
        "train_data"
      ],
      "metadata": {
        "colab": {
          "base_uri": "https://localhost:8080/"
        },
        "id": "lNZASzAiTkzt",
        "outputId": "808ca95a-7e40-4bde-c0ef-70601801aa0e"
      },
      "execution_count": 7,
      "outputs": [
        {
          "output_type": "execute_result",
          "data": {
            "text/plain": [
              "array([[0.19      , 0.33      , 0.02      , ..., 0.5       , 0.32      ,\n",
              "        0.14      ],\n",
              "       [0.        , 0.16      , 0.12      , ..., 0.45188285, 0.        ,\n",
              "        0.19075314],\n",
              "       [0.        , 0.42      , 0.49      , ..., 0.45188285, 0.        ,\n",
              "        0.19075314],\n",
              "       ...,\n",
              "       [0.        , 0.52      , 0.04      , ..., 0.45188285, 0.        ,\n",
              "        0.19075314],\n",
              "       [0.04      , 0.51      , 0.07      , ..., 0.45188285, 0.        ,\n",
              "        0.19075314],\n",
              "       [0.03      , 0.59      , 0.2       , ..., 0.45188285, 0.        ,\n",
              "        0.19075314]])"
            ]
          },
          "metadata": {},
          "execution_count": 7
        }
      ]
    },
    {
      "cell_type": "code",
      "source": [
        "def build_model():\n",
        "    model = models.Sequential()\n",
        "    model.add(layers.Dense(64,activation='relu',input_shape=(train_data.shape[1],)))\n",
        "    model.add(layers.Dense(64,activation='relu'))\n",
        "    model.add(layers.Dense(1))\n",
        "    model.compile(optimizer='rmsprop',loss='mse',metrics=['mae'])                           #compile the model using the optimizer RMSprop\n",
        "    return model"
      ],
      "metadata": {
        "id": "gE2UugISTpp2"
      },
      "execution_count": 8,
      "outputs": []
    },
    {
      "cell_type": "code",
      "source": [
        "# Training and validation of the model \n",
        "\n",
        "k = 4\n",
        "num_val_sample = len(train_data)//k\n",
        "num_epochs = 300\n",
        "all_scores = []\n",
        "all_mae_histories = []\n",
        "\n",
        "# k-fold cross validation\n",
        "for i in range(k):\n",
        "    print('processing fold #',i)\n",
        "    \n",
        "    # prepare validation fold\n",
        "    val_data = train_data[i * num_val_sample: (i+1) * num_val_sample]\n",
        "    val_labels = train_labels[i * num_val_sample: (i+1) * num_val_sample]\n",
        "    \n",
        "    # concentrate training fold\n",
        "    partial_train_data = np.concatenate(\n",
        "        [train_data[:i * num_val_sample],\n",
        "         train_data[(i+1) * num_val_sample:]],\n",
        "        axis = 0)\n",
        "    partial_train_labels = np.concatenate(\n",
        "        [train_labels[:i*num_val_sample],\n",
        "         train_labels[(i+1)*num_val_sample:]],\n",
        "        axis=0)\n",
        "   \n",
        "    # train using the training fold\n",
        "    model = build_model() # create a compiled model using our function\n",
        "    history = model.fit(\n",
        "    partial_train_data,partial_train_labels,\n",
        "    epochs=num_epochs,batch_size=32,verbose=0) # silent mode (verbose=0)\n",
        "    test_mse_score,test_mae_score = model.evaluate(val_data,val_labels)\n",
        "    print(test_mae_score)\n",
        "\n",
        "    # training performance\n",
        "    history_dict = history.history\n",
        "    mae_history = history.history['mae']\n",
        "    all_mae_histories.append(mae_history)\n",
        "    \n",
        "    # validation set performace per fold\n",
        "    val_mse,val_mae = model.evaluate(val_data,val_labels,verbose=0)\n",
        "    all_scores.append(val_mae)\n",
        "    \n",
        "\n",
        "# find average per-epoch MAE score for all folds\n",
        "average_mae_history = [np.mean([x[i] for x in all_mae_histories]) for i in range(num_epochs)]"
      ],
      "metadata": {
        "colab": {
          "base_uri": "https://localhost:8080/"
        },
        "id": "1lFSIkAFT8-G",
        "outputId": "170d730e-7f19-4735-f517-8ffe73ec6265"
      },
      "execution_count": 9,
      "outputs": [
        {
          "output_type": "stream",
          "name": "stdout",
          "text": [
            "processing fold # 0\n",
            "12/12 [==============================] - 0s 2ms/step - loss: 0.0250 - mae: 0.1152\n",
            "0.1152406856417656\n",
            "processing fold # 1\n",
            "12/12 [==============================] - 0s 2ms/step - loss: 0.0368 - mae: 0.1256\n",
            "0.12564711272716522\n",
            "processing fold # 2\n",
            "12/12 [==============================] - 0s 3ms/step - loss: 0.0225 - mae: 0.1041\n",
            "0.10413530468940735\n",
            "processing fold # 3\n",
            "12/12 [==============================] - 0s 2ms/step - loss: 0.0194 - mae: 0.0963\n",
            "0.09634475409984589\n"
          ]
        }
      ]
    },
    {
      "cell_type": "code",
      "source": [
        "#  Plot the results on the graph\n",
        "import matplotlib.pyplot as plt\n",
        "plt.plot(range(1,len(average_mae_history)+1),average_mae_history)\n",
        "plt.xlabel('Epochs')\n",
        "plt.ylabel('Validation MAE')\n",
        "plt.show()"
      ],
      "metadata": {
        "colab": {
          "base_uri": "https://localhost:8080/",
          "height": 282
        },
        "id": "YtxSfmGoVIAv",
        "outputId": "7502943b-dcca-4558-a3dc-9ccdd997f0de"
      },
      "execution_count": 10,
      "outputs": [
        {
          "output_type": "display_data",
          "data": {
            "text/plain": [
              "<Figure size 432x288 with 1 Axes>"
            ],
            "image/png": "[encoded data removed]"
          },
          "metadata": {
            "needs_background": "light"
          }
        }
      ]
    },
    {
      "cell_type": "code",
      "source": [
        "def smooth_curve(points, factor=0.9):\n",
        "    smoothed_points = []\n",
        "    for point in points:\n",
        "        if smoothed_points:\n",
        "            previous = smoothed_points[-1]\n",
        "            smoothed_points.append(previous * factor + point * (1 - factor))\n",
        "        else:\n",
        "            smoothed_points.append(point)\n",
        "    return smoothed_points\n",
        "\n",
        "smooth_mae_history = smooth_curve(average_mae_history[10:])\n",
        "\n",
        "plt.plot(range(1, len(smooth_mae_history) + 1), smooth_mae_history)\n",
        "plt.xlabel('Epochs')\n",
        "plt.ylabel('Validation MAE')\n",
        "plt.show()"
      ],
      "metadata": {
        "colab": {
          "base_uri": "https://localhost:8080/",
          "height": 279
        },
        "id": "rXR3bMTQWNeN",
        "outputId": "0e51849d-d0d8-4c2d-d8ea-19cc1fba2d87"
      },
      "execution_count": 11,
      "outputs": [
        {
          "output_type": "display_data",
          "data": {
            "text/plain": [
              "<Figure size 432x288 with 1 Axes>"
            ],
            "image/png": "[encoded data removed]"
          },
          "metadata": {
            "needs_background": "light"
          }
        }
      ]
    },
    {
      "cell_type": "code",
      "source": [
        "# Tune the model hyper paramters and retrain\n",
        "model = build_model()\n",
        "\n",
        "# Train on the entire dataset, \n",
        "model.fit(train_data,train_labels,epochs = 20,batch_size = 16,verbose = 1)\n",
        "\n",
        "# Evaluate performace\n",
        "test_mse_score,test_mae_score = model.evaluate(test_data,test_labels)"
      ],
      "metadata": {
        "colab": {
          "base_uri": "https://localhost:8080/"
        },
        "id": "ZXWiwrgyWXlu",
        "outputId": "d8a9f1f4-410e-40df-b1ce-fa975ffc4ebb"
      },
      "execution_count": 12,
      "outputs": [
        {
          "output_type": "stream",
          "name": "stdout",
          "text": [
            "Epoch 1/20\n",
            "94/94 [==============================] - 1s 3ms/step - loss: 0.0338 - mae: 0.1328\n",
            "Epoch 2/20\n",
            "94/94 [==============================] - 0s 3ms/step - loss: 0.0242 - mae: 0.1137\n",
            "Epoch 3/20\n",
            "94/94 [==============================] - 0s 3ms/step - loss: 0.0225 - mae: 0.1060\n",
            "Epoch 4/20\n",
            "94/94 [==============================] - 0s 3ms/step - loss: 0.0207 - mae: 0.1015\n",
            "Epoch 5/20\n",
            "94/94 [==============================] - 0s 3ms/step - loss: 0.0203 - mae: 0.0995\n",
            "Epoch 6/20\n",
            "94/94 [==============================] - 0s 3ms/step - loss: 0.0192 - mae: 0.0978\n",
            "Epoch 7/20\n",
            "94/94 [==============================] - 0s 3ms/step - loss: 0.0198 - mae: 0.0985\n",
            "Epoch 8/20\n",
            "94/94 [==============================] - 0s 3ms/step - loss: 0.0189 - mae: 0.0955\n",
            "Epoch 9/20\n",
            "94/94 [==============================] - 0s 3ms/step - loss: 0.0187 - mae: 0.0943\n",
            "Epoch 10/20\n",
            "94/94 [==============================] - 0s 3ms/step - loss: 0.0179 - mae: 0.0920\n",
            "Epoch 11/20\n",
            "94/94 [==============================] - 0s 3ms/step - loss: 0.0176 - mae: 0.0910\n",
            "Epoch 12/20\n",
            "94/94 [==============================] - 0s 3ms/step - loss: 0.0177 - mae: 0.0916\n",
            "Epoch 13/20\n",
            "94/94 [==============================] - 0s 3ms/step - loss: 0.0167 - mae: 0.0902\n",
            "Epoch 14/20\n",
            "94/94 [==============================] - 0s 3ms/step - loss: 0.0163 - mae: 0.0887\n",
            "Epoch 15/20\n",
            "94/94 [==============================] - 0s 3ms/step - loss: 0.0161 - mae: 0.0882\n",
            "Epoch 16/20\n",
            "94/94 [==============================] - 0s 3ms/step - loss: 0.0158 - mae: 0.0882\n",
            "Epoch 17/20\n",
            "94/94 [==============================] - 0s 3ms/step - loss: 0.0160 - mae: 0.0870\n",
            "Epoch 18/20\n",
            "94/94 [==============================] - 0s 3ms/step - loss: 0.0156 - mae: 0.0857\n",
            "Epoch 19/20\n",
            "94/94 [==============================] - 0s 3ms/step - loss: 0.0151 - mae: 0.0847\n",
            "Epoch 20/20\n",
            "94/94 [==============================] - 0s 3ms/step - loss: 0.0151 - mae: 0.0846\n",
            "16/16 [==============================] - 0s 2ms/step - loss: 0.0190 - mae: 0.0974\n"
          ]
        }
      ]
    },
    {
      "cell_type": "code",
      "source": [
        "# Display the testing score\n",
        "test_mae_score"
      ],
      "metadata": {
        "colab": {
          "base_uri": "https://localhost:8080/"
        },
        "id": "fFrcVJtkWnpV",
        "outputId": "6d6bd4e9-d8ff-4cbe-af48-8d76f3866fef"
      },
      "execution_count": 13,
      "outputs": [
        {
          "output_type": "execute_result",
          "data": {
            "text/plain": [
              "0.09737828373908997"
            ]
          },
          "metadata": {},
          "execution_count": 13
        }
      ]
    },
    {
      "cell_type": "code",
      "source": [
        "# Save\n",
        "model.save('Programming Task4.hdf5')"
      ],
      "metadata": {
        "id": "6-RwllmSWyNF"
      },
      "execution_count": 14,
      "outputs": []
    }
  ]
}