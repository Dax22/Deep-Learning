{
  "nbformat": 4,
  "nbformat_minor": 0,
  "metadata": {
    "colab": {
      "provenance": [],
      "collapsed_sections": []
    },
    "kernelspec": {
      "name": "python3",
      "display_name": "Python 3"
    },
    "language_info": {
      "name": "python"
    },
    "accelerator": "GPU"
  },
  "cells": [
    {
      "cell_type": "code",
      "execution_count": 12,
      "metadata": {
        "id": "itnx4q5vmfGx"
      },
      "outputs": [],
      "source": [
        "# setup\n",
        "from tensorflow import keras\n",
        "from tensorflow.keras import layers\n",
        "from keras.datasets import cifar10\n",
        "from keras import models\n",
        "from keras.layers import Dense\n",
        "import keras.utils as ku\n",
        "from tensorflow.keras.optimizers import Adam, SGD, RMSprop\n",
        "from keras.layers.core import Activation\n",
        "import numpy as np\n",
        "import matplotlib.pyplot as plt"
      ]
    },
    {
      "cell_type": "code",
      "source": [
        "#Load the CIFAR10 data and split the data into training and testing subset\n",
        "(train_images, train_labels), (test_images, test_labels) = cifar10.load_data()\n",
        "\n",
        "train_images_subs= train_images[np.where(train_labels[:,0] < 3)[0],:]\n",
        "train_labels_subs = train_labels[np.where(train_labels[:,0] < 3)[0],:]\n",
        "test_images_subs = test_images[np.where(test_labels[:,0] < 3)[0],:]\n",
        "test_labels_subs = test_labels[np.where(test_labels[:,0] < 3)[0],:]\n",
        "print(train_images_subs.shape)\n",
        "print(train_labels_subs.shape)\n",
        "print(test_images_subs.shape)\n",
        "print(test_labels_subs.shape)"
      ],
      "metadata": {
        "colab": {
          "base_uri": "https://localhost:8080/"
        },
        "id": "vKywZtZEPFxo",
        "outputId": "884fce36-cf16-4411-ef50-bbe847871ecf"
      },
      "execution_count": 13,
      "outputs": [
        {
          "output_type": "stream",
          "name": "stdout",
          "text": [
            "(15000, 32, 32, 3)\n",
            "(15000, 1)\n",
            "(3000, 32, 32, 3)\n",
            "(3000, 1)\n"
          ]
        }
      ]
    },
    {
      "cell_type": "code",
      "source": [
        "# convert the training_labels_subset and testing_labels_subset to canonical encoding \n",
        "# Applying the function to training set labels and testing set labels\n",
        "\n",
        "from tensorflow.keras.utils import to_categorical\n",
        "train_labels_subs = to_categorical(train_labels_subs,3)\n",
        "test_labels_subs = to_categorical(test_labels_subs,3)\n",
        "\n",
        "\n",
        "train_images_subs= train_images_subs.astype('float')/255.0\n",
        "test_images_subs = test_images_subs.astype('float')/255.0\n",
        "\n",
        "\n",
        "train_val = train_images_subs[:3000]\n",
        "partial_train_val = train_images_subs[3000:]\n",
        "train_lab_val = train_labels_subs[:3000]\n",
        "partial_train_lab_val = train_labels_subs[3000:]\n",
        "\n"
      ],
      "metadata": {
        "id": "hbOlyjztdSVL"
      },
      "execution_count": 14,
      "outputs": []
    },
    {
      "cell_type": "code",
      "source": [
        "# model training fit method \n",
        "# Trains the model for a fixed number of epochs (iterations on a dataset)\n",
        "\n",
        "model = models.Sequential()\n",
        "model.add(layers.Conv2D(32, (3, 3), padding='same', input_shape = (32, 32, 3)))\n",
        "model.add(Activation('relu'))\n",
        "model.add(layers.Flatten())\n",
        "model.add(Dense(3))\n",
        "model.add(Activation('softmax'))\n",
        "model.compile(optimizer=SGD(lr=0.01, decay = 1e-6, momentum=0.9, nesterov = True), loss='categorical_crossentropy' ,metrics = ['accuracy'])\n",
        "\n",
        "\n",
        "\n",
        "history=model.fit(\n",
        "    partial_train_val, partial_train_lab_val,\n",
        "    epochs = 60,\n",
        "    batch_size = 512,\n",
        "    validation_data = (train_val, train_lab_val))\n",
        "\n",
        "history_dict = history.history\n",
        "history_dict.keys()\n"
      ],
      "metadata": {
        "id": "5NY6fG2wf9rR",
        "colab": {
          "base_uri": "https://localhost:8080/"
        },
        "outputId": "3d1982f9-31c7-499c-a6fc-6bcbb1702680"
      },
      "execution_count": 15,
      "outputs": [
        {
          "output_type": "stream",
          "name": "stdout",
          "text": [
            "Epoch 1/60\n",
            "24/24 [==============================] - 1s 22ms/step - loss: 1.2470 - accuracy: 0.4866 - val_loss: 0.9549 - val_accuracy: 0.5173\n",
            "Epoch 2/60\n",
            "24/24 [==============================] - 0s 15ms/step - loss: 0.8828 - accuracy: 0.6511 - val_loss: 0.7531 - val_accuracy: 0.7230\n",
            "Epoch 3/60\n",
            "24/24 [==============================] - 0s 16ms/step - loss: 0.7496 - accuracy: 0.6996 - val_loss: 0.6555 - val_accuracy: 0.7543\n",
            "Epoch 4/60\n",
            "24/24 [==============================] - 0s 18ms/step - loss: 0.6659 - accuracy: 0.7418 - val_loss: 0.5967 - val_accuracy: 0.7680\n",
            "Epoch 5/60\n",
            "24/24 [==============================] - 0s 18ms/step - loss: 0.6288 - accuracy: 0.7564 - val_loss: 0.6036 - val_accuracy: 0.7560\n",
            "Epoch 6/60\n",
            "24/24 [==============================] - 0s 14ms/step - loss: 0.5864 - accuracy: 0.7690 - val_loss: 0.6121 - val_accuracy: 0.7430\n",
            "Epoch 7/60\n",
            "24/24 [==============================] - 0s 13ms/step - loss: 0.5736 - accuracy: 0.7728 - val_loss: 0.5135 - val_accuracy: 0.8000\n",
            "Epoch 8/60\n",
            "24/24 [==============================] - 0s 14ms/step - loss: 0.5323 - accuracy: 0.7912 - val_loss: 0.4932 - val_accuracy: 0.8017\n",
            "Epoch 9/60\n",
            "24/24 [==============================] - 0s 14ms/step - loss: 0.5077 - accuracy: 0.7958 - val_loss: 0.4910 - val_accuracy: 0.8053\n",
            "Epoch 10/60\n",
            "24/24 [==============================] - 0s 13ms/step - loss: 0.4747 - accuracy: 0.8115 - val_loss: 0.4818 - val_accuracy: 0.8033\n",
            "Epoch 11/60\n",
            "24/24 [==============================] - 0s 14ms/step - loss: 0.4769 - accuracy: 0.8101 - val_loss: 0.4763 - val_accuracy: 0.8133\n",
            "Epoch 12/60\n",
            "24/24 [==============================] - 0s 13ms/step - loss: 0.4570 - accuracy: 0.8175 - val_loss: 0.4878 - val_accuracy: 0.7990\n",
            "Epoch 13/60\n",
            "24/24 [==============================] - 0s 13ms/step - loss: 0.4430 - accuracy: 0.8267 - val_loss: 0.4499 - val_accuracy: 0.8193\n",
            "Epoch 14/60\n",
            "24/24 [==============================] - 0s 14ms/step - loss: 0.4390 - accuracy: 0.8242 - val_loss: 0.4903 - val_accuracy: 0.8033\n",
            "Epoch 15/60\n",
            "24/24 [==============================] - 0s 14ms/step - loss: 0.4389 - accuracy: 0.8245 - val_loss: 0.4388 - val_accuracy: 0.8237\n",
            "Epoch 16/60\n",
            "24/24 [==============================] - 0s 14ms/step - loss: 0.4271 - accuracy: 0.8307 - val_loss: 0.4344 - val_accuracy: 0.8257\n",
            "Epoch 17/60\n",
            "24/24 [==============================] - 0s 14ms/step - loss: 0.4178 - accuracy: 0.8359 - val_loss: 0.4434 - val_accuracy: 0.8217\n",
            "Epoch 18/60\n",
            "24/24 [==============================] - 0s 14ms/step - loss: 0.4214 - accuracy: 0.8322 - val_loss: 0.4806 - val_accuracy: 0.8087\n",
            "Epoch 19/60\n",
            "24/24 [==============================] - 0s 13ms/step - loss: 0.4034 - accuracy: 0.8399 - val_loss: 0.4654 - val_accuracy: 0.8100\n",
            "Epoch 20/60\n",
            "24/24 [==============================] - 0s 14ms/step - loss: 0.4045 - accuracy: 0.8374 - val_loss: 0.4455 - val_accuracy: 0.8200\n",
            "Epoch 21/60\n",
            "24/24 [==============================] - 0s 14ms/step - loss: 0.3926 - accuracy: 0.8438 - val_loss: 0.4212 - val_accuracy: 0.8307\n",
            "Epoch 22/60\n",
            "24/24 [==============================] - 0s 13ms/step - loss: 0.3852 - accuracy: 0.8477 - val_loss: 0.4188 - val_accuracy: 0.8327\n",
            "Epoch 23/60\n",
            "24/24 [==============================] - 0s 14ms/step - loss: 0.3945 - accuracy: 0.8450 - val_loss: 0.4213 - val_accuracy: 0.8313\n",
            "Epoch 24/60\n",
            "24/24 [==============================] - 0s 13ms/step - loss: 0.3802 - accuracy: 0.8512 - val_loss: 0.4138 - val_accuracy: 0.8347\n",
            "Epoch 25/60\n",
            "24/24 [==============================] - 0s 14ms/step - loss: 0.3718 - accuracy: 0.8537 - val_loss: 0.4120 - val_accuracy: 0.8327\n",
            "Epoch 26/60\n",
            "24/24 [==============================] - 0s 14ms/step - loss: 0.3629 - accuracy: 0.8567 - val_loss: 0.4135 - val_accuracy: 0.8337\n",
            "Epoch 27/60\n",
            "24/24 [==============================] - 0s 13ms/step - loss: 0.3539 - accuracy: 0.8602 - val_loss: 0.5080 - val_accuracy: 0.8013\n",
            "Epoch 28/60\n",
            "24/24 [==============================] - 0s 14ms/step - loss: 0.3887 - accuracy: 0.8471 - val_loss: 0.4225 - val_accuracy: 0.8313\n",
            "Epoch 29/60\n",
            "24/24 [==============================] - 0s 14ms/step - loss: 0.3522 - accuracy: 0.8593 - val_loss: 0.4377 - val_accuracy: 0.8227\n",
            "Epoch 30/60\n",
            "24/24 [==============================] - 0s 15ms/step - loss: 0.3492 - accuracy: 0.8627 - val_loss: 0.4151 - val_accuracy: 0.8347\n",
            "Epoch 31/60\n",
            "24/24 [==============================] - 0s 13ms/step - loss: 0.3412 - accuracy: 0.8651 - val_loss: 0.4058 - val_accuracy: 0.8337\n",
            "Epoch 32/60\n",
            "24/24 [==============================] - 0s 13ms/step - loss: 0.3511 - accuracy: 0.8612 - val_loss: 0.4052 - val_accuracy: 0.8317\n",
            "Epoch 33/60\n",
            "24/24 [==============================] - 0s 13ms/step - loss: 0.3379 - accuracy: 0.8658 - val_loss: 0.4015 - val_accuracy: 0.8347\n",
            "Epoch 34/60\n",
            "24/24 [==============================] - 0s 13ms/step - loss: 0.3379 - accuracy: 0.8664 - val_loss: 0.4187 - val_accuracy: 0.8327\n",
            "Epoch 35/60\n",
            "24/24 [==============================] - 0s 14ms/step - loss: 0.3315 - accuracy: 0.8698 - val_loss: 0.5819 - val_accuracy: 0.7747\n",
            "Epoch 36/60\n",
            "24/24 [==============================] - 0s 16ms/step - loss: 0.3380 - accuracy: 0.8670 - val_loss: 0.4402 - val_accuracy: 0.8307\n",
            "Epoch 37/60\n",
            "24/24 [==============================] - 0s 16ms/step - loss: 0.3235 - accuracy: 0.8758 - val_loss: 0.4020 - val_accuracy: 0.8333\n",
            "Epoch 38/60\n",
            "24/24 [==============================] - 0s 17ms/step - loss: 0.3186 - accuracy: 0.8740 - val_loss: 0.3947 - val_accuracy: 0.8390\n",
            "Epoch 39/60\n",
            "24/24 [==============================] - 0s 16ms/step - loss: 0.3133 - accuracy: 0.8788 - val_loss: 0.3989 - val_accuracy: 0.8347\n",
            "Epoch 40/60\n",
            "24/24 [==============================] - 0s 17ms/step - loss: 0.3209 - accuracy: 0.8729 - val_loss: 0.3915 - val_accuracy: 0.8397\n",
            "Epoch 41/60\n",
            "24/24 [==============================] - 0s 14ms/step - loss: 0.3084 - accuracy: 0.8807 - val_loss: 0.4120 - val_accuracy: 0.8293\n",
            "Epoch 42/60\n",
            "24/24 [==============================] - 0s 14ms/step - loss: 0.3053 - accuracy: 0.8817 - val_loss: 0.4551 - val_accuracy: 0.8270\n",
            "Epoch 43/60\n",
            "24/24 [==============================] - 0s 13ms/step - loss: 0.3102 - accuracy: 0.8797 - val_loss: 0.4115 - val_accuracy: 0.8263\n",
            "Epoch 44/60\n",
            "24/24 [==============================] - 0s 14ms/step - loss: 0.3000 - accuracy: 0.8827 - val_loss: 0.4274 - val_accuracy: 0.8253\n",
            "Epoch 45/60\n",
            "24/24 [==============================] - 0s 13ms/step - loss: 0.3039 - accuracy: 0.8811 - val_loss: 0.4486 - val_accuracy: 0.8147\n",
            "Epoch 46/60\n",
            "24/24 [==============================] - 0s 14ms/step - loss: 0.3052 - accuracy: 0.8820 - val_loss: 0.4173 - val_accuracy: 0.8363\n",
            "Epoch 47/60\n",
            "24/24 [==============================] - 0s 14ms/step - loss: 0.2920 - accuracy: 0.8859 - val_loss: 0.3930 - val_accuracy: 0.8427\n",
            "Epoch 48/60\n",
            "24/24 [==============================] - 0s 14ms/step - loss: 0.2948 - accuracy: 0.8871 - val_loss: 0.3956 - val_accuracy: 0.8360\n",
            "Epoch 49/60\n",
            "24/24 [==============================] - 0s 13ms/step - loss: 0.2903 - accuracy: 0.8872 - val_loss: 0.4039 - val_accuracy: 0.8340\n",
            "Epoch 50/60\n",
            "24/24 [==============================] - 0s 14ms/step - loss: 0.2827 - accuracy: 0.8903 - val_loss: 0.3985 - val_accuracy: 0.8347\n",
            "Epoch 51/60\n",
            "24/24 [==============================] - 0s 13ms/step - loss: 0.2791 - accuracy: 0.8927 - val_loss: 0.3908 - val_accuracy: 0.8447\n",
            "Epoch 52/60\n",
            "24/24 [==============================] - 0s 13ms/step - loss: 0.2787 - accuracy: 0.8913 - val_loss: 0.4006 - val_accuracy: 0.8413\n",
            "Epoch 53/60\n",
            "24/24 [==============================] - 0s 14ms/step - loss: 0.2761 - accuracy: 0.8912 - val_loss: 0.4035 - val_accuracy: 0.8420\n",
            "Epoch 54/60\n",
            "24/24 [==============================] - 0s 14ms/step - loss: 0.2737 - accuracy: 0.8948 - val_loss: 0.3879 - val_accuracy: 0.8430\n",
            "Epoch 55/60\n",
            "24/24 [==============================] - 0s 13ms/step - loss: 0.2746 - accuracy: 0.8947 - val_loss: 0.4441 - val_accuracy: 0.8187\n",
            "Epoch 56/60\n",
            "24/24 [==============================] - 0s 13ms/step - loss: 0.2727 - accuracy: 0.8940 - val_loss: 0.3911 - val_accuracy: 0.8397\n",
            "Epoch 57/60\n",
            "24/24 [==============================] - 0s 14ms/step - loss: 0.2621 - accuracy: 0.9009 - val_loss: 0.3828 - val_accuracy: 0.8447\n",
            "Epoch 58/60\n",
            "24/24 [==============================] - 0s 14ms/step - loss: 0.2622 - accuracy: 0.9013 - val_loss: 0.3914 - val_accuracy: 0.8413\n",
            "Epoch 59/60\n",
            "24/24 [==============================] - 0s 14ms/step - loss: 0.2588 - accuracy: 0.9018 - val_loss: 0.3943 - val_accuracy: 0.8403\n",
            "Epoch 60/60\n",
            "24/24 [==============================] - 0s 14ms/step - loss: 0.2704 - accuracy: 0.8964 - val_loss: 0.3892 - val_accuracy: 0.8477\n"
          ]
        },
        {
          "output_type": "execute_result",
          "data": {
            "text/plain": [
              "dict_keys(['loss', 'accuracy', 'val_loss', 'val_accuracy'])"
            ]
          },
          "metadata": {},
          "execution_count": 15
        }
      ]
    },
    {
      "cell_type": "code",
      "source": [
        "loss_values = history_dict['loss']\n",
        "val_loss_values = history_dict['val_loss']\n",
        "epochs = range(1, len(loss_values) + 1)\n",
        "\n",
        "plt.plot(epochs, loss_values, 'bo', label= 'Training loss')\n",
        "plt.plot(epochs,val_loss_values, 'b', label=\"Validation loss\")\n",
        "plt.title('Training and Validation loss')\n",
        "plt.xlabel('Epochs')\n",
        "plt.ylabel('Loss')\n",
        "plt.legend()\n",
        "plt.show()\n",
        "\n",
        "\n",
        "acc_values = history_dict['accuracy']\n",
        "val_acc_values = history_dict['val_accuracy']\n",
        "epochss = range(1, len(acc_values) + 1)\n",
        "\n",
        "plt.plot(epochss, acc_values, 'bo', label= 'Training accuracy')\n",
        "plt.plot(epochss,val_acc_values, 'b', label=\"Validation accuracy\")\n",
        "plt.title('Training and Validation accuracy')\n",
        "plt.xlabel('Epochs')\n",
        "plt.ylabel('Accuracy')\n",
        "plt.legend()\n",
        "plt.show()"
      ],
      "metadata": {
        "id": "89zx6_BU3CTj",
        "colab": {
          "base_uri": "https://localhost:8080/",
          "height": 573
        },
        "outputId": "60e46049-865b-491c-fb15-9c201badf5c7"
      },
      "execution_count": 16,
      "outputs": [
        {
          "output_type": "display_data",
          "data": {
            "text/plain": [
              "<Figure size 432x288 with 1 Axes>"
            ],
            "image/png": "[encoded data removed]"
          },
          "metadata": {
            "needs_background": "light"
          }
        },
        {
          "output_type": "display_data",
          "data": {
            "text/plain": [
              "<Figure size 432x288 with 1 Axes>"
            ],
            "image/png": "[encoded data removed]"
          },
          "metadata": {
            "needs_background": "light"
          }
        }
      ]
    },
    {
      "cell_type": "code",
      "source": [
        "sgd = SGD(lr=0.001,decay = 1e-6,momentum=0.9,nesterov=True)\n",
        "model.compile(\n",
        "    optimizer=sgd,\n",
        "    loss='categorical_crossentropy',\n",
        "    metrics=['accuracy'])\n",
        "\n",
        "history = model.fit(train_images_subs,train_labels_subs,epochs=60,batch_size=64)\n",
        "results=model.evaluate(test_images_subs,test_labels_subs)\n",
        "print(results)"
      ],
      "metadata": {
        "colab": {
          "base_uri": "https://localhost:8080/"
        },
        "id": "2r4V7rv5ZyMP",
        "outputId": "a91d9d88-b6fa-4195-ace3-6502d910a586"
      },
      "execution_count": 17,
      "outputs": [
        {
          "output_type": "stream",
          "name": "stdout",
          "text": [
            "Epoch 1/60\n",
            "235/235 [==============================] - 1s 4ms/step - loss: 0.2799 - accuracy: 0.8929\n",
            "Epoch 2/60\n",
            "235/235 [==============================] - 1s 4ms/step - loss: 0.2747 - accuracy: 0.8947\n",
            "Epoch 3/60\n",
            "235/235 [==============================] - 1s 4ms/step - loss: 0.2732 - accuracy: 0.8967\n",
            "Epoch 4/60\n",
            "235/235 [==============================] - 1s 4ms/step - loss: 0.2691 - accuracy: 0.8953\n",
            "Epoch 5/60\n",
            "235/235 [==============================] - 1s 4ms/step - loss: 0.2669 - accuracy: 0.8971\n",
            "Epoch 6/60\n",
            "235/235 [==============================] - 1s 4ms/step - loss: 0.2649 - accuracy: 0.8987\n",
            "Epoch 7/60\n",
            "235/235 [==============================] - 1s 4ms/step - loss: 0.2622 - accuracy: 0.9001\n",
            "Epoch 8/60\n",
            "235/235 [==============================] - 1s 4ms/step - loss: 0.2605 - accuracy: 0.9004\n",
            "Epoch 9/60\n",
            "235/235 [==============================] - 1s 4ms/step - loss: 0.2571 - accuracy: 0.9021\n",
            "Epoch 10/60\n",
            "235/235 [==============================] - 1s 4ms/step - loss: 0.2551 - accuracy: 0.9019\n",
            "Epoch 11/60\n",
            "235/235 [==============================] - 1s 4ms/step - loss: 0.2539 - accuracy: 0.9015\n",
            "Epoch 12/60\n",
            "235/235 [==============================] - 1s 4ms/step - loss: 0.2515 - accuracy: 0.9043\n",
            "Epoch 13/60\n",
            "235/235 [==============================] - 1s 4ms/step - loss: 0.2498 - accuracy: 0.9035\n",
            "Epoch 14/60\n",
            "235/235 [==============================] - 1s 4ms/step - loss: 0.2483 - accuracy: 0.9050\n",
            "Epoch 15/60\n",
            "235/235 [==============================] - 1s 5ms/step - loss: 0.2466 - accuracy: 0.9061\n",
            "Epoch 16/60\n",
            "235/235 [==============================] - 1s 4ms/step - loss: 0.2452 - accuracy: 0.9081\n",
            "Epoch 17/60\n",
            "235/235 [==============================] - 1s 4ms/step - loss: 0.2429 - accuracy: 0.9073\n",
            "Epoch 18/60\n",
            "235/235 [==============================] - 1s 4ms/step - loss: 0.2413 - accuracy: 0.9071\n",
            "Epoch 19/60\n",
            "235/235 [==============================] - 1s 4ms/step - loss: 0.2404 - accuracy: 0.9083\n",
            "Epoch 20/60\n",
            "235/235 [==============================] - 1s 4ms/step - loss: 0.2384 - accuracy: 0.9098\n",
            "Epoch 21/60\n",
            "235/235 [==============================] - 1s 4ms/step - loss: 0.2365 - accuracy: 0.9118\n",
            "Epoch 22/60\n",
            "235/235 [==============================] - 1s 4ms/step - loss: 0.2360 - accuracy: 0.9113\n",
            "Epoch 23/60\n",
            "235/235 [==============================] - 1s 4ms/step - loss: 0.2326 - accuracy: 0.9119\n",
            "Epoch 24/60\n",
            "235/235 [==============================] - 1s 4ms/step - loss: 0.2321 - accuracy: 0.9137\n",
            "Epoch 25/60\n",
            "235/235 [==============================] - 1s 4ms/step - loss: 0.2296 - accuracy: 0.9130\n",
            "Epoch 26/60\n",
            "235/235 [==============================] - 1s 4ms/step - loss: 0.2289 - accuracy: 0.9130\n",
            "Epoch 27/60\n",
            "235/235 [==============================] - 1s 4ms/step - loss: 0.2275 - accuracy: 0.9163\n",
            "Epoch 28/60\n",
            "235/235 [==============================] - 1s 4ms/step - loss: 0.2274 - accuracy: 0.9146\n",
            "Epoch 29/60\n",
            "235/235 [==============================] - 1s 4ms/step - loss: 0.2253 - accuracy: 0.9158\n",
            "Epoch 30/60\n",
            "235/235 [==============================] - 1s 4ms/step - loss: 0.2227 - accuracy: 0.9155\n",
            "Epoch 31/60\n",
            "235/235 [==============================] - 1s 4ms/step - loss: 0.2225 - accuracy: 0.9169\n",
            "Epoch 32/60\n",
            "235/235 [==============================] - 1s 4ms/step - loss: 0.2210 - accuracy: 0.9168\n",
            "Epoch 33/60\n",
            "235/235 [==============================] - 1s 4ms/step - loss: 0.2211 - accuracy: 0.9175\n",
            "Epoch 34/60\n",
            "235/235 [==============================] - 1s 4ms/step - loss: 0.2181 - accuracy: 0.9185\n",
            "Epoch 35/60\n",
            "235/235 [==============================] - 1s 4ms/step - loss: 0.2164 - accuracy: 0.9182\n",
            "Epoch 36/60\n",
            "235/235 [==============================] - 1s 4ms/step - loss: 0.2172 - accuracy: 0.9191\n",
            "Epoch 37/60\n",
            "235/235 [==============================] - 1s 4ms/step - loss: 0.2151 - accuracy: 0.9213\n",
            "Epoch 38/60\n",
            "235/235 [==============================] - 1s 4ms/step - loss: 0.2139 - accuracy: 0.9207\n",
            "Epoch 39/60\n",
            "235/235 [==============================] - 1s 4ms/step - loss: 0.2113 - accuracy: 0.9197\n",
            "Epoch 40/60\n",
            "235/235 [==============================] - 1s 4ms/step - loss: 0.2103 - accuracy: 0.9222\n",
            "Epoch 41/60\n",
            "235/235 [==============================] - 1s 4ms/step - loss: 0.2091 - accuracy: 0.9207\n",
            "Epoch 42/60\n",
            "235/235 [==============================] - 1s 4ms/step - loss: 0.2078 - accuracy: 0.9241\n",
            "Epoch 43/60\n",
            "235/235 [==============================] - 1s 4ms/step - loss: 0.2068 - accuracy: 0.9224\n",
            "Epoch 44/60\n",
            "235/235 [==============================] - 1s 4ms/step - loss: 0.2058 - accuracy: 0.9221\n",
            "Epoch 45/60\n",
            "235/235 [==============================] - 1s 4ms/step - loss: 0.2050 - accuracy: 0.9249\n",
            "Epoch 46/60\n",
            "235/235 [==============================] - 1s 4ms/step - loss: 0.2045 - accuracy: 0.9241\n",
            "Epoch 47/60\n",
            "235/235 [==============================] - 1s 4ms/step - loss: 0.2034 - accuracy: 0.9257\n",
            "Epoch 48/60\n",
            "235/235 [==============================] - 1s 4ms/step - loss: 0.2015 - accuracy: 0.9257\n",
            "Epoch 49/60\n",
            "235/235 [==============================] - 1s 4ms/step - loss: 0.2002 - accuracy: 0.9265\n",
            "Epoch 50/60\n",
            "235/235 [==============================] - 1s 4ms/step - loss: 0.1998 - accuracy: 0.9271\n",
            "Epoch 51/60\n",
            "235/235 [==============================] - 1s 4ms/step - loss: 0.2002 - accuracy: 0.9260\n",
            "Epoch 52/60\n",
            "235/235 [==============================] - 1s 4ms/step - loss: 0.1976 - accuracy: 0.9249\n",
            "Epoch 53/60\n",
            "235/235 [==============================] - 1s 4ms/step - loss: 0.1951 - accuracy: 0.9271\n",
            "Epoch 54/60\n",
            "235/235 [==============================] - 1s 4ms/step - loss: 0.1956 - accuracy: 0.9283\n",
            "Epoch 55/60\n",
            "235/235 [==============================] - 1s 4ms/step - loss: 0.1925 - accuracy: 0.9295\n",
            "Epoch 56/60\n",
            "235/235 [==============================] - 1s 4ms/step - loss: 0.1934 - accuracy: 0.9297\n",
            "Epoch 57/60\n",
            "235/235 [==============================] - 1s 4ms/step - loss: 0.1916 - accuracy: 0.9309\n",
            "Epoch 58/60\n",
            "235/235 [==============================] - 1s 4ms/step - loss: 0.1908 - accuracy: 0.9313\n",
            "Epoch 59/60\n",
            "235/235 [==============================] - 1s 4ms/step - loss: 0.1895 - accuracy: 0.9322\n",
            "Epoch 60/60\n",
            "235/235 [==============================] - 1s 4ms/step - loss: 0.1890 - accuracy: 0.9313\n",
            "94/94 [==============================] - 0s 3ms/step - loss: 0.4041 - accuracy: 0.8467\n",
            "[0.40412524342536926, 0.846666693687439]\n"
          ]
        }
      ]
    },
    {
      "cell_type": "code",
      "source": [
        "history_dict = history.history\n",
        "print(history_dict.keys())"
      ],
      "metadata": {
        "colab": {
          "base_uri": "https://localhost:8080/"
        },
        "id": "yeKvYWZzaFDO",
        "outputId": "d26110a0-f820-403c-9aee-87ca43e8dc89"
      },
      "execution_count": 18,
      "outputs": [
        {
          "output_type": "stream",
          "name": "stdout",
          "text": [
            "dict_keys(['loss', 'accuracy'])\n"
          ]
        }
      ]
    },
    {
      "cell_type": "code",
      "source": [
        "import matplotlib.pyplot as plt\n",
        "loss = history_dict['loss']\n",
        "epochs = range(1,len(loss)+1)\n",
        "plt.plot(epochs,loss,'bo',label='Training loss') \n",
        "plt.title(\"Training and validation loss\")\n",
        "plt.xlabel('Epochs')\n",
        "plt.ylabel('Loss')\n",
        "plt.legend()\n",
        "plt.show()\n",
        "\n",
        "plt.clf()\n",
        "acc_values = history_dict['accuracy']\n",
        "plt.plot(epochs,acc_values,'bo',label='Training acc')\n",
        "plt.title('Training and validation accuracy')\n",
        "plt.xlabel('Epochs')\n",
        "plt.ylabel('Accuracy')\n",
        "plt.legend()\n",
        "plt.show()"
      ],
      "metadata": {
        "colab": {
          "base_uri": "https://localhost:8080/",
          "height": 573
        },
        "id": "qqKsWFDCa0hH",
        "outputId": "b34f721d-e53b-4ebf-a08d-9373b7772f1b"
      },
      "execution_count": 19,
      "outputs": [
        {
          "output_type": "display_data",
          "data": {
            "text/plain": [
              "<Figure size 432x288 with 1 Axes>"
            ],
            "image/png": "[encoded data removed]"
          },
          "metadata": {
            "needs_background": "light"
          }
        },
        {
          "output_type": "display_data",
          "data": {
            "text/plain": [
              "<Figure size 432x288 with 1 Axes>"
            ],
            "image/png": "[encoded data removed]"
          },
          "metadata": {
            "needs_background": "light"
          }
        }
      ]
    },
    {
      "cell_type": "code",
      "source": [
        "#Save the model\n",
        "model.save('task2.hdf5')\n",
        "\n",
        "# Load the model weights\n",
        "model.load_weights('task2.hdf5')\n",
        "\n",
        "# Display and verify the training data\n",
        "plt.imshow(test_images[15])"
      ],
      "metadata": {
        "colab": {
          "base_uri": "https://localhost:8080/",
          "height": 283
        },
        "id": "m2q3sKgcbHEf",
        "outputId": "a10a98b1-b472-4b4a-af8d-d8d8db79d649"
      },
      "execution_count": 22,
      "outputs": [
        {
          "output_type": "execute_result",
          "data": {
            "text/plain": [
              "<matplotlib.image.AxesImage at 0x7f33961fac50>"
            ]
          },
          "metadata": {},
          "execution_count": 22
        },
        {
          "output_type": "display_data",
          "data": {
            "text/plain": [
              "<Figure size 432x288 with 1 Axes>"
            ],
            "image/png": "[encoded data removed]"
          },
          "metadata": {
            "needs_background": "light"
          }
        }
      ]
    },
    {
      "cell_type": "code",
      "source": [
        "# Make a prediction\n",
        "model.predict(test_images[10:11])"
      ],
      "metadata": {
        "colab": {
          "base_uri": "https://localhost:8080/"
        },
        "id": "sAKFNkHQcP8u",
        "outputId": "6e2860b8-8db9-44b9-bf55-a441a3728aef"
      },
      "execution_count": 23,
      "outputs": [
        {
          "output_type": "execute_result",
          "data": {
            "text/plain": [
              "array([[1., 0., 0.]], dtype=float32)"
            ]
          },
          "metadata": {},
          "execution_count": 23
        }
      ]
    }
  ]
}